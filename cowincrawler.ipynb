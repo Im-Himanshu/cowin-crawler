{
 "cells": [
  {
   "cell_type": "markdown",
   "metadata": {},
   "source": [
    "###### original Author: deepak patil : https://github.com/deepakppatil/cowin-hack\n",
    "### How to use :\n",
    "tl;dr \n",
    " Just run all the cells one after another ctrl+Enter "
   ]
  },
  {
   "cell_type": "code",
   "execution_count": 2,
   "metadata": {},
   "outputs": [
    {
     "name": "stdout",
     "output_type": "stream",
     "text": [
      "Requirement already satisfied: tabulate==0.8.9 in c:\\users\\goyal\\anaconda3\\lib\\site-packages (from -r ./requirements.txt (line 1)) (0.8.9)\n",
      "Requirement already satisfied: requests==2.25.1 in c:\\users\\goyal\\anaconda3\\lib\\site-packages (from -r ./requirements.txt (line 2)) (2.25.1)\n",
      "Requirement already satisfied: logger==1.4 in c:\\users\\goyal\\anaconda3\\lib\\site-packages (from -r ./requirements.txt (line 3)) (1.4)\n",
      "Requirement already satisfied: click==7.1.2 in c:\\users\\goyal\\anaconda3\\lib\\site-packages (from -r ./requirements.txt (line 4)) (7.1.2)\n",
      "Requirement already satisfied: chardet<5,>=3.0.2 in c:\\users\\goyal\\anaconda3\\lib\\site-packages (from requests==2.25.1->-r ./requirements.txt (line 2)) (3.0.4)\n",
      "Requirement already satisfied: certifi>=2017.4.17 in c:\\users\\goyal\\anaconda3\\lib\\site-packages (from requests==2.25.1->-r ./requirements.txt (line 2)) (2020.6.20)\n",
      "Requirement already satisfied: idna<3,>=2.5 in c:\\users\\goyal\\anaconda3\\lib\\site-packages (from requests==2.25.1->-r ./requirements.txt (line 2)) (2.10)\n",
      "Requirement already satisfied: urllib3<1.27,>=1.21.1 in c:\\users\\goyal\\anaconda3\\lib\\site-packages (from requests==2.25.1->-r ./requirements.txt (line 2)) (1.25.10)\n"
     ]
    }
   ],
   "source": [
    "!pip install -r ./requirements.txt"
   ]
  },
  {
   "cell_type": "code",
   "execution_count": 3,
   "metadata": {
    "scrolled": false
   },
   "outputs": [],
   "source": [
    "#helper functions : just execute it\n",
    "import logging\n",
    "import traceback\n",
    "import requests\n",
    "import time\n",
    "\n",
    "from tabulate import tabulate\n",
    "from time import sleep\n",
    "from datetime import datetime\n",
    "from IPython.display import clear_output\n",
    "import webbrowser\n",
    "\n",
    "vaccines = ['COVISHIELD', 'COVAXIN','SPUTNIK']\n",
    "headers = {'User-Agent': 'Mozilla/5.0 (Macintosh; Intel Mac OS X 10_15_6) AppleWebKit/605.1.15 (KHTML, like Gecko) Version/14.0.3 Safari/605.1.15'}\n",
    "class Crawler:\n",
    "    # base url\n",
    "    \n",
    "    def __init__(self):\n",
    "        print(\"__inside__\")\n",
    "        self.f = open(\"logs.txt\", \"a\")\n",
    "        self.base = \"https://cdn-api.co-vin.in/api/v2/appointment/sessions/public/calendarByDistrict?district_id={}&date=\".format(district_id)\n",
    "        print(self.base)\n",
    "\n",
    "    def start_process(self, date):\n",
    "        \"\"\"\n",
    "        function the data from cowin\n",
    "        \"\"\"\n",
    "        result = requests.get(\"{0}{1}\".format(self.base, date), headers=headers)\n",
    "        if (result.status_code == 200):\n",
    "            return self.churn(result.json())\n",
    "        else:\n",
    "            print(\"Got {} response..\".format(result.status_code))\n",
    "            return []\n",
    "\n",
    "    def churn(self, data):\n",
    "        output = []\n",
    "        for field in data['centers']:\n",
    "            for session in field['sessions']:\n",
    "                min_age_limit = session['min_age_limit']\n",
    "                dose1 = session['available_capacity_dose1']\n",
    "                if min_age_limit<your_age and session['vaccine'] in vaccines:\n",
    "                    record = [field['name'],\n",
    "                              session['available_capacity_dose1'],\n",
    "                              session['vaccine'],\n",
    "                              session['min_age_limit'],\n",
    "                              \"{}, {}\".format(field['block_name'], field['address'][:15])]\n",
    "                    output.append(record)\n",
    "                    if dose1>0 :\n",
    "                        #https://selfregistration.cowin.gov.in/appointmentwebbrowser.open_new('https://selfregistration.cowin.gov.in/')\n",
    "                        with open(\"logs.txt\", \"a\") as f :\n",
    "                            f.write(datetime.today().strftime('%d-%B-%Y %H:%M:%S')+ \"Session available : go to the co-win site, now \\n\")\n",
    "                            print(record)\n",
    "                            f.write(tabulate([record], headers=['Name', 'Capacity', 'Vaccine','min_age_limit', 'Address']))\n",
    "                        #if session['vaccine'] !='COVISHIELD':\n",
    "                        webbrowser.open_new('https://selfregistration.cowin.gov.in/')\n",
    "                        print(\"Session available : go to the co-win site, now\")\n",
    "                        print(\"session in under sleep for 40 second from : \",datetime.today().strftime('%H:%M:%S') )\n",
    "                        time.sleep(40) #go to sleep after opening new window \n",
    "        \n",
    "        return output\n",
    "\n",
    "\n",
    "def execute(delay, task):\n",
    "    next_time = time.time() + delay\n",
    "    while True:\n",
    "        time.sleep(max(0, next_time - time.time()))\n",
    "        try:\n",
    "            task()\n",
    "        except Exception:\n",
    "            traceback.print_exc()\n",
    "            print(\"Problem while executing repetitive task.\")\n",
    "        # skip tasks if we are behind schedule:\n",
    "        next_time += (time.time() - next_time) // delay * delay + delay\n",
    "\n",
    "\n",
    "def run():\n",
    "    date = datetime.today().strftime('%d-%m-%Y %H:%M:%S')\n",
    "    output = task.start_process(date)\n",
    "    if len(output) > 0:\n",
    "        clear_output(wait=True)\n",
    "        print(date)\n",
    "        log.info(tabulate(output, headers=['Name', 'Capacity', 'Vaccine','min_age_limit', 'Address']))\n",
    "        \n",
    "    else:\n",
    "        print(\"Not available...\")\n",
    "logging.basicConfig(format='%(asctime)s %(message)s', datefmt='%m/%d/%Y %I:%M:%S %p', level=logging.DEBUG)\n",
    "log = logging.getLogger('__name__')"
   ]
  },
  {
   "cell_type": "markdown",
   "metadata": {},
   "source": [
    "##  Run the below cell and Notedown the id for your state"
   ]
  },
  {
   "cell_type": "code",
   "execution_count": 24,
   "metadata": {
    "scrolled": true
   },
   "outputs": [
    {
     "name": "stderr",
     "output_type": "stream",
     "text": [
      "06/02/2021 01:58:14 PM Starting new HTTPS connection (1): cdn-api.co-vin.in:443\n",
      "06/02/2021 01:58:16 PM https://cdn-api.co-vin.in:443 \"GET /api/v2/admin/location/states/ HTTP/1.1\" 200 None\n"
     ]
    },
    {
     "name": "stdout",
     "output_type": "stream",
     "text": [
      "State                          ID\n",
      "---------------------------  ----\n",
      "Andaman and Nicobar Islands     1\n",
      "Andhra Pradesh                  2\n",
      "Arunachal Pradesh               3\n",
      "Assam                           4\n",
      "Bihar                           5\n",
      "Chandigarh                      6\n",
      "Chhattisgarh                    7\n",
      "Dadra and Nagar Haveli          8\n",
      "Daman and Diu                  37\n",
      "Delhi                           9\n",
      "Goa                            10\n",
      "Gujarat                        11\n",
      "Haryana                        12\n",
      "Himachal Pradesh               13\n",
      "Jammu and Kashmir              14\n",
      "Jharkhand                      15\n",
      "Karnataka                      16\n",
      "Kerala                         17\n",
      "Ladakh                         18\n",
      "Lakshadweep                    19\n",
      "Madhya Pradesh                 20\n",
      "Maharashtra                    21\n",
      "Manipur                        22\n",
      "Meghalaya                      23\n",
      "Mizoram                        24\n",
      "Nagaland                       25\n",
      "Odisha                         26\n",
      "Puducherry                     27\n",
      "Punjab                         28\n",
      "Rajasthan                      29\n",
      "Sikkim                         30\n",
      "Tamil Nadu                     31\n",
      "Telangana                      32\n",
      "Tripura                        33\n",
      "Uttar Pradesh                  34\n",
      "Uttarakhand                    35\n",
      "West Bengal                    36\n"
     ]
    }
   ],
   "source": [
    "#get state id\n",
    "link = \"https://cdn-api.co-vin.in/api/v2/admin/location/states/\"\n",
    "result = requests.get(link, headers=headers)\n",
    "all_states_json = result.json()['states']\n",
    "all_states = []\n",
    "for elem in all_states_json:\n",
    "    all_states.append([elem['state_name'],elem['state_id']])\n",
    "\n",
    "print(tabulate(all_states, headers=['State', 'ID']))"
   ]
  },
  {
   "cell_type": "markdown",
   "metadata": {},
   "source": [
    "## Pass the above state_id in here and notedown the district_id from here"
   ]
  },
  {
   "cell_type": "code",
   "execution_count": 31,
   "metadata": {
    "scrolled": true
   },
   "outputs": [
    {
     "name": "stderr",
     "output_type": "stream",
     "text": [
      "06/02/2021 02:12:42 PM Starting new HTTPS connection (1): cdn-api.co-vin.in:443\n",
      "06/02/2021 02:12:42 PM https://cdn-api.co-vin.in:443 \"GET /api/v2/admin/location/districts/21 HTTP/1.1\" 200 None\n"
     ]
    },
    {
     "name": "stdout",
     "output_type": "stream",
     "text": [
      "District      ID\n",
      "----------  ----\n",
      "Ahmednagar   391\n",
      "Akola        364\n",
      "Amravati     366\n",
      "Aurangabad   397\n",
      "Beed         384\n",
      "Bhandara     370\n",
      "Buldhana     367\n",
      "Chandrapur   380\n",
      "Dhule        388\n",
      "Gadchiroli   379\n",
      "Gondia       378\n",
      "Hingoli      386\n",
      "Jalgaon      390\n",
      "Jalna        396\n",
      "Kolhapur     371\n",
      "Latur        383\n",
      "Mumbai       395\n",
      "Nagpur       365\n",
      "Nanded       382\n",
      "Nandurbar    387\n",
      "Nashik       389\n",
      "Osmanabad    381\n",
      "Palghar      394\n",
      "Parbhani     385\n",
      "Pune         363\n",
      "Raigad       393\n",
      "Ratnagiri    372\n",
      "Sangli       373\n",
      "Satara       376\n",
      "Sindhudurg   374\n",
      "Solapur      375\n",
      "Thane        392\n",
      "Wardha       377\n",
      "Washim       369\n",
      "Yavatmal     368\n"
     ]
    }
   ],
   "source": [
    "#get district id based on above state_id \n",
    "link = \"https://cdn-api.co-vin.in/api/v2/admin/location/districts/\"\n",
    "state_id = 21                    #===================================>>>>>>>>>>>>>>  pass the above state_id here\n",
    "result = requests.get(\"{0}{1}\".format(link, state_id), headers=headers)\n",
    "all_district = result.json()['districts']\n",
    "all_dist = []\n",
    "for elem in all_district:\n",
    "    all_dist.append([elem['district_name'],elem['district_id']])\n",
    "print(tabulate(all_dist, headers=['District', 'ID']))"
   ]
  },
  {
   "cell_type": "markdown",
   "metadata": {},
   "source": [
    "## pass above district_id in this cell\n",
    "\n",
    "Moreover you can also pass the Vaccine you want to opt for, leave it as it is if you have no priority\n",
    "\n",
    "This will Open a new window when the slot is availaible \n",
    "please Note, the lower the \"frequency\" the higher the chance that you will get to book before others and your IP getting blocked by cowin site. Though No blocking has happened from cowin portal till now\n",
    "\n",
    "### consider using this [extensions](https://chrome.google.com/webstore/detail/cowin-booking/gemdkhkmcnifpfbfnhpbbhageflibppm) to automate all the process, you just have to enter the OTP\n",
    "\n",
    "##### Even if you miss the slot, you can check the logg file to observe when the slots are coming up in your area and be prepare for the next day"
   ]
  },
  {
   "cell_type": "code",
   "execution_count": 4,
   "metadata": {},
   "outputs": [
    {
     "name": "stdout",
     "output_type": "stream",
     "text": [
      "__inside__\n",
      "https://cdn-api.co-vin.in/api/v2/appointment/sessions/public/calendarByDistrict?district_id=363&date=\n"
     ]
    },
    {
     "name": "stderr",
     "output_type": "stream",
     "text": [
      "06/02/2021 02:53:53 PM Starting new HTTPS connection (1): cdn-api.co-vin.in:443\n",
      "06/02/2021 02:53:55 PM https://cdn-api.co-vin.in:443 \"GET /api/v2/appointment/sessions/public/calendarByDistrict?district_id=363&date=02-06-2021%2014:53:53 HTTP/1.1\" 200 96902\n"
     ]
    },
    {
     "name": "stdout",
     "output_type": "stream",
     "text": [
      "['Symbiosis University Hospital', 1, 'COVISHIELD', 18, 'Mulshi, 936 1 And 936 2']\n",
      "Session available : go to the co-win site, now\n",
      "session in under sleep for 40 second from :  14:53:55\n"
     ]
    },
    {
     "ename": "KeyboardInterrupt",
     "evalue": "",
     "output_type": "error",
     "traceback": [
      "\u001b[1;31m---------------------------------------------------------------------------\u001b[0m",
      "\u001b[1;31mKeyboardInterrupt\u001b[0m                         Traceback (most recent call last)",
      "\u001b[1;32m<ipython-input-4-72a550c68a30>\u001b[0m in \u001b[0;36m<module>\u001b[1;34m\u001b[0m\n\u001b[0;32m      4\u001b[0m \u001b[0myour_age\u001b[0m \u001b[1;33m=\u001b[0m \u001b[1;36m25\u001b[0m\u001b[1;33m\u001b[0m\u001b[1;33m\u001b[0m\u001b[0m\n\u001b[0;32m      5\u001b[0m \u001b[0mtask\u001b[0m \u001b[1;33m=\u001b[0m \u001b[0mCrawler\u001b[0m\u001b[1;33m(\u001b[0m\u001b[1;33m)\u001b[0m\u001b[1;33m\u001b[0m\u001b[1;33m\u001b[0m\u001b[0m\n\u001b[1;32m----> 6\u001b[1;33m \u001b[0mexecute\u001b[0m\u001b[1;33m(\u001b[0m\u001b[0mfrequency\u001b[0m\u001b[1;33m,\u001b[0m \u001b[0mrun\u001b[0m\u001b[1;33m)\u001b[0m\u001b[1;33m\u001b[0m\u001b[1;33m\u001b[0m\u001b[0m\n\u001b[0m",
      "\u001b[1;32m<ipython-input-3-d8c4683a1405>\u001b[0m in \u001b[0;36mexecute\u001b[1;34m(delay, task)\u001b[0m\n\u001b[0;32m     66\u001b[0m         \u001b[0mtime\u001b[0m\u001b[1;33m.\u001b[0m\u001b[0msleep\u001b[0m\u001b[1;33m(\u001b[0m\u001b[0mmax\u001b[0m\u001b[1;33m(\u001b[0m\u001b[1;36m0\u001b[0m\u001b[1;33m,\u001b[0m \u001b[0mnext_time\u001b[0m \u001b[1;33m-\u001b[0m \u001b[0mtime\u001b[0m\u001b[1;33m.\u001b[0m\u001b[0mtime\u001b[0m\u001b[1;33m(\u001b[0m\u001b[1;33m)\u001b[0m\u001b[1;33m)\u001b[0m\u001b[1;33m)\u001b[0m\u001b[1;33m\u001b[0m\u001b[1;33m\u001b[0m\u001b[0m\n\u001b[0;32m     67\u001b[0m         \u001b[1;32mtry\u001b[0m\u001b[1;33m:\u001b[0m\u001b[1;33m\u001b[0m\u001b[1;33m\u001b[0m\u001b[0m\n\u001b[1;32m---> 68\u001b[1;33m             \u001b[0mtask\u001b[0m\u001b[1;33m(\u001b[0m\u001b[1;33m)\u001b[0m\u001b[1;33m\u001b[0m\u001b[1;33m\u001b[0m\u001b[0m\n\u001b[0m\u001b[0;32m     69\u001b[0m         \u001b[1;32mexcept\u001b[0m \u001b[0mException\u001b[0m\u001b[1;33m:\u001b[0m\u001b[1;33m\u001b[0m\u001b[1;33m\u001b[0m\u001b[0m\n\u001b[0;32m     70\u001b[0m             \u001b[0mtraceback\u001b[0m\u001b[1;33m.\u001b[0m\u001b[0mprint_exc\u001b[0m\u001b[1;33m(\u001b[0m\u001b[1;33m)\u001b[0m\u001b[1;33m\u001b[0m\u001b[1;33m\u001b[0m\u001b[0m\n",
      "\u001b[1;32m<ipython-input-3-d8c4683a1405>\u001b[0m in \u001b[0;36mrun\u001b[1;34m()\u001b[0m\n\u001b[0;32m     76\u001b[0m \u001b[1;32mdef\u001b[0m \u001b[0mrun\u001b[0m\u001b[1;33m(\u001b[0m\u001b[1;33m)\u001b[0m\u001b[1;33m:\u001b[0m\u001b[1;33m\u001b[0m\u001b[1;33m\u001b[0m\u001b[0m\n\u001b[0;32m     77\u001b[0m     \u001b[0mdate\u001b[0m \u001b[1;33m=\u001b[0m \u001b[0mdatetime\u001b[0m\u001b[1;33m.\u001b[0m\u001b[0mtoday\u001b[0m\u001b[1;33m(\u001b[0m\u001b[1;33m)\u001b[0m\u001b[1;33m.\u001b[0m\u001b[0mstrftime\u001b[0m\u001b[1;33m(\u001b[0m\u001b[1;34m'%d-%m-%Y %H:%M:%S'\u001b[0m\u001b[1;33m)\u001b[0m\u001b[1;33m\u001b[0m\u001b[1;33m\u001b[0m\u001b[0m\n\u001b[1;32m---> 78\u001b[1;33m     \u001b[0moutput\u001b[0m \u001b[1;33m=\u001b[0m \u001b[0mtask\u001b[0m\u001b[1;33m.\u001b[0m\u001b[0mstart_process\u001b[0m\u001b[1;33m(\u001b[0m\u001b[0mdate\u001b[0m\u001b[1;33m)\u001b[0m\u001b[1;33m\u001b[0m\u001b[1;33m\u001b[0m\u001b[0m\n\u001b[0m\u001b[0;32m     79\u001b[0m     \u001b[1;32mif\u001b[0m \u001b[0mlen\u001b[0m\u001b[1;33m(\u001b[0m\u001b[0moutput\u001b[0m\u001b[1;33m)\u001b[0m \u001b[1;33m>\u001b[0m \u001b[1;36m0\u001b[0m\u001b[1;33m:\u001b[0m\u001b[1;33m\u001b[0m\u001b[1;33m\u001b[0m\u001b[0m\n\u001b[0;32m     80\u001b[0m         \u001b[0mclear_output\u001b[0m\u001b[1;33m(\u001b[0m\u001b[0mwait\u001b[0m\u001b[1;33m=\u001b[0m\u001b[1;32mTrue\u001b[0m\u001b[1;33m)\u001b[0m\u001b[1;33m\u001b[0m\u001b[1;33m\u001b[0m\u001b[0m\n",
      "\u001b[1;32m<ipython-input-3-d8c4683a1405>\u001b[0m in \u001b[0;36mstart_process\u001b[1;34m(self, date)\u001b[0m\n\u001b[0;32m     28\u001b[0m         \u001b[0mresult\u001b[0m \u001b[1;33m=\u001b[0m \u001b[0mrequests\u001b[0m\u001b[1;33m.\u001b[0m\u001b[0mget\u001b[0m\u001b[1;33m(\u001b[0m\u001b[1;34m\"{0}{1}\"\u001b[0m\u001b[1;33m.\u001b[0m\u001b[0mformat\u001b[0m\u001b[1;33m(\u001b[0m\u001b[0mself\u001b[0m\u001b[1;33m.\u001b[0m\u001b[0mbase\u001b[0m\u001b[1;33m,\u001b[0m \u001b[0mdate\u001b[0m\u001b[1;33m)\u001b[0m\u001b[1;33m,\u001b[0m \u001b[0mheaders\u001b[0m\u001b[1;33m=\u001b[0m\u001b[0mheaders\u001b[0m\u001b[1;33m)\u001b[0m\u001b[1;33m\u001b[0m\u001b[1;33m\u001b[0m\u001b[0m\n\u001b[0;32m     29\u001b[0m         \u001b[1;32mif\u001b[0m \u001b[1;33m(\u001b[0m\u001b[0mresult\u001b[0m\u001b[1;33m.\u001b[0m\u001b[0mstatus_code\u001b[0m \u001b[1;33m==\u001b[0m \u001b[1;36m200\u001b[0m\u001b[1;33m)\u001b[0m\u001b[1;33m:\u001b[0m\u001b[1;33m\u001b[0m\u001b[1;33m\u001b[0m\u001b[0m\n\u001b[1;32m---> 30\u001b[1;33m             \u001b[1;32mreturn\u001b[0m \u001b[0mself\u001b[0m\u001b[1;33m.\u001b[0m\u001b[0mchurn\u001b[0m\u001b[1;33m(\u001b[0m\u001b[0mresult\u001b[0m\u001b[1;33m.\u001b[0m\u001b[0mjson\u001b[0m\u001b[1;33m(\u001b[0m\u001b[1;33m)\u001b[0m\u001b[1;33m)\u001b[0m\u001b[1;33m\u001b[0m\u001b[1;33m\u001b[0m\u001b[0m\n\u001b[0m\u001b[0;32m     31\u001b[0m         \u001b[1;32melse\u001b[0m\u001b[1;33m:\u001b[0m\u001b[1;33m\u001b[0m\u001b[1;33m\u001b[0m\u001b[0m\n\u001b[0;32m     32\u001b[0m             \u001b[0mprint\u001b[0m\u001b[1;33m(\u001b[0m\u001b[1;34m\"Got {} response..\"\u001b[0m\u001b[1;33m.\u001b[0m\u001b[0mformat\u001b[0m\u001b[1;33m(\u001b[0m\u001b[0mresult\u001b[0m\u001b[1;33m.\u001b[0m\u001b[0mstatus_code\u001b[0m\u001b[1;33m)\u001b[0m\u001b[1;33m)\u001b[0m\u001b[1;33m\u001b[0m\u001b[1;33m\u001b[0m\u001b[0m\n",
      "\u001b[1;32m<ipython-input-3-d8c4683a1405>\u001b[0m in \u001b[0;36mchurn\u001b[1;34m(self, data)\u001b[0m\n\u001b[0;32m     56\u001b[0m                         \u001b[0mprint\u001b[0m\u001b[1;33m(\u001b[0m\u001b[1;34m\"Session available : go to the co-win site, now\"\u001b[0m\u001b[1;33m)\u001b[0m\u001b[1;33m\u001b[0m\u001b[1;33m\u001b[0m\u001b[0m\n\u001b[0;32m     57\u001b[0m                         \u001b[0mprint\u001b[0m\u001b[1;33m(\u001b[0m\u001b[1;34m\"session in under sleep for 40 second from : \"\u001b[0m\u001b[1;33m,\u001b[0m\u001b[0mdatetime\u001b[0m\u001b[1;33m.\u001b[0m\u001b[0mtoday\u001b[0m\u001b[1;33m(\u001b[0m\u001b[1;33m)\u001b[0m\u001b[1;33m.\u001b[0m\u001b[0mstrftime\u001b[0m\u001b[1;33m(\u001b[0m\u001b[1;34m'%H:%M:%S'\u001b[0m\u001b[1;33m)\u001b[0m \u001b[1;33m)\u001b[0m\u001b[1;33m\u001b[0m\u001b[1;33m\u001b[0m\u001b[0m\n\u001b[1;32m---> 58\u001b[1;33m                         \u001b[0mtime\u001b[0m\u001b[1;33m.\u001b[0m\u001b[0msleep\u001b[0m\u001b[1;33m(\u001b[0m\u001b[1;36m40\u001b[0m\u001b[1;33m)\u001b[0m \u001b[1;31m#go to sleep after opening new window\u001b[0m\u001b[1;33m\u001b[0m\u001b[1;33m\u001b[0m\u001b[0m\n\u001b[0m\u001b[0;32m     59\u001b[0m \u001b[1;33m\u001b[0m\u001b[0m\n\u001b[0;32m     60\u001b[0m         \u001b[1;32mreturn\u001b[0m \u001b[0moutput\u001b[0m\u001b[1;33m\u001b[0m\u001b[1;33m\u001b[0m\u001b[0m\n",
      "\u001b[1;31mKeyboardInterrupt\u001b[0m: "
     ]
    }
   ],
   "source": [
    "district_id = 363               #================>   pass above district id here, 363 for Pune\n",
    "frequency = 1 # after every frequency second, code will check for the availaiblity\n",
    "vaccines = ['COVISHIELD', 'COVAXIN','SPUTNIK'] # remove anyone if you don't want to book appointment for that\n",
    "your_age = 25\n",
    "task = Crawler()\n",
    "execute(frequency, run)"
   ]
  },
  {
   "cell_type": "code",
   "execution_count": null,
   "metadata": {},
   "outputs": [],
   "source": []
  }
 ],
 "metadata": {
  "kernelspec": {
   "display_name": "Python 3",
   "language": "python",
   "name": "python3"
  },
  "language_info": {
   "codemirror_mode": {
    "name": "ipython",
    "version": 3
   },
   "file_extension": ".py",
   "mimetype": "text/x-python",
   "name": "python",
   "nbconvert_exporter": "python",
   "pygments_lexer": "ipython3",
   "version": "3.8.3"
  }
 },
 "nbformat": 4,
 "nbformat_minor": 5
}
